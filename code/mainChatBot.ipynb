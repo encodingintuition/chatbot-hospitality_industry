{
 "cells": [
  {
   "cell_type": "markdown",
   "metadata": {},
   "source": [
    "# Chatbot Hospitality Industry\n",
    "<hr>"
   ]
  },
  {
   "cell_type": "code",
   "execution_count": 1,
   "metadata": {},
   "outputs": [],
   "source": [
    "# Import\n",
    "\n",
    "import transformers\n",
    "#from nltk.corpus import wordnet\n",
    "\n",
    "import speech_recognition as sr\n",
    "from gtts import gTTS\n",
    "\n",
    "import os\n",
    "import re"
   ]
  },
  {
   "cell_type": "code",
   "execution_count": 2,
   "metadata": {},
   "outputs": [],
   "source": [
    "# var\n",
    "\n",
    "towel_req = [[0,0],         #      , room number\n",
    "             [0,0],         #  flag, count bath towel \n",
    "             [0,0],         #  flag, count face towel\n",
    "             [0,0]]         #  flag, count washcloth\n",
    "\n",
    "key_towel = '.*\\\\bi need some towels\\\\b.*|.*\\\\bi need some towel\\\\b.*' #\"I need some towels\""
   ]
  },
  {
   "cell_type": "markdown",
   "metadata": {},
   "source": [
    "<hr>"
   ]
  },
  {
   "cell_type": "code",
   "execution_count": 3,
   "metadata": {},
   "outputs": [],
   "source": [
    "# gTTS - Convert Text to speech\n",
    "\n",
    "def text_to_speech(text):\n",
    "    print(\"va --> \", text)\n",
    "    speaker = gTTS(text=text, lang=\"en\", slow=False)\n",
    "    speaker.save(\"res.mp3\")\n",
    "    os.system(\"afplay res.mp3\") \n",
    "    os.remove(\"res.mp3\")\n",
    "    "
   ]
  },
  {
   "cell_type": "code",
   "execution_count": 4,
   "metadata": {},
   "outputs": [],
   "source": [
    "# Speech Recognition, using speech_recognition\n",
    "\n",
    "def speech_to_text():\n",
    "    text = \"\"\n",
    "    recognizer = sr.Recognizer()\n",
    "    with sr.Microphone() as mic:\n",
    "        print(\"listening...\")\n",
    "        audio = recognizer.listen(mic)\n",
    "    try:\n",
    "        text = recognizer.recognize_google(audio)\n",
    "        print(\"Human --> \",text)\n",
    "    except:\n",
    "        print(\"Human --> Error\")\n",
    "    return text.lower()"
   ]
  },
  {
   "cell_type": "markdown",
   "metadata": {},
   "source": [
    "<hr>"
   ]
  },
  {
   "cell_type": "code",
   "execution_count": 9,
   "metadata": {},
   "outputs": [],
   "source": [
    "# I need some towels \n",
    "\n",
    "def need_towels():\n",
    "    yes = '.*\\\\byes\\\\b.*|.*\\\\byep\\\\b.*|.*\\\\bcorrect\\\\b.*'\n",
    "    no = '.*\\\\bno\\\\b.*|.*\\\\bnegative\\\\b.*|.*\\\\bnope\\\\b.*'\n",
    "\n",
    "    # Loop for towel input \n",
    "    flag = True\n",
    "    while(flag == True):\n",
    "        \n",
    "        if towel_req[1][0] == 0 & towel_req[2][0] == 0 & towel_req[3][0] == 0: \n",
    "            exit = False\n",
    "            \n",
    "            # output\n",
    "            vaReply = \"what type of towels would you like: bath towel, hand towel, or washcloths\"\n",
    "            text_to_speech(vaReply)\n",
    "            \n",
    "            # loop for towel \n",
    "            while exit == False:\n",
    "                \n",
    "                # Input -- type of towel\n",
    "                human_input = speech_to_text()\n",
    "                print(human_input)\n",
    "                \n",
    "                if re.search('.*\\\\bbath\\\\b.*',human_input):\n",
    "                    towel_req[1][0] = 1 \n",
    "                    flag = 1\n",
    "                    # number of towels\n",
    "                    towel_req[1][1] = numberofTowels('bath') \n",
    "                \n",
    "                \n",
    "                \"\"\"\n",
    "                else:\n",
    "                    while \n",
    "                        #smart-chat responce\n",
    "                        # maybe if smart chatbot responce cosi is > ___ threshhold \n",
    "                    vaReply = \"what type of towels would you like: bath towel, hand towel, or washcloths\"\n",
    "                    text_to_speech(vaReply) \n",
    "                \"\"\"\n",
    "                \n",
    "                if towel_req[1][0] == 1 | towel_req[2][0] == 1 | towel_req[3][0] == 1: \n",
    "                    \n",
    "                    while True:\n",
    "                        \n",
    "                        # output \n",
    "                        vaReply = \"would you like any addtional type of towel?\"\n",
    "                        text_to_speech(vaReply)\n",
    "                        # input \n",
    "                        human_input = speech_to_text()\n",
    "                        \n",
    "                        if re.search(yes,human_input):\n",
    "                            #vaReply = \"what type of towels would you like: bath towel, hand towel, or washcloths\"\n",
    "                            text_to_speech(vaReply)\n",
    "                        elif re.search(no,human_input):\n",
    "                            # flag to exit towel type loop\n",
    "                            exit = True\n",
    "                        else:\n",
    "                            vaReply = \"I am sorry i did not understand that. what type of towels would you like.\"\n",
    "                            text_to_speech(vaReply)\n",
    "                    \n",
    "                \n",
    "            print('keyRoomNumber')    \n",
    "            while keyRoomNumber:\n",
    "                \n",
    "                # output \n",
    "                vaReply = \"What room number should I send this up too?\"\n",
    "                text_to_speech(vaReply)\n",
    "                # input \n",
    "                human_input = speech_to_text()\n",
    "                \n",
    "                \n",
    "                \n",
    "        # input \n",
    "        \n",
    "        \n",
    "        "
   ]
  },
  {
   "cell_type": "code",
   "execution_count": 6,
   "metadata": {},
   "outputs": [],
   "source": [
    "# Number of Towels\n",
    "\n",
    "\n",
    "def numberofTowels(type_of_towel):\n",
    "    yes = '.*\\\\byes\\\\b.*|.*\\\\byep\\\\b.*|.*\\\\bcorrect\\\\b.*'\n",
    "    clean_input = 0     \n",
    "\n",
    "    vaReply = \"how many \" + type_of_towel + \" towels would you like?\"\n",
    "    text_to_speech(vaReply)\n",
    "    \n",
    "    while (True):\n",
    "    \n",
    "        # input \n",
    "        human_input = speech_to_text()\n",
    "        # only the numbers\n",
    "        try:\n",
    "            clean_input = int(re.sub('\\D', '', human_input) )\n",
    "        except:\n",
    "            vaReply = \"how many \" + type_of_towel + \" towels would you like?\"\n",
    "            text_to_speech(vaReply)\n",
    "             \n",
    "        if (clean_input <= 20) & (clean_input > 0): \n",
    "            return clean_input\n",
    "            \n",
    "        elif clean_input > 20:\n",
    "            vaReply = 'i am sorry the max towels we can send you is 20.  We will send you 20.'    \n",
    "            text_to_speech(vaReply)\n",
    "            return 20\n",
    "    \n",
    "        "
   ]
  },
  {
   "cell_type": "code",
   "execution_count": 7,
   "metadata": {},
   "outputs": [
    {
     "name": "stdout",
     "output_type": "stream",
     "text": [
      "va -->  Hello Tokyo Grand Hyatt, how can i help you\n",
      "listening...\n",
      "Human -->  hello I need some towels please\n",
      "towels 2\n",
      "va -->  what type of towels would you like: bath towel, hand towel, or washcloths\n",
      "listening...\n",
      "Human -->  bath towels please\n",
      "bath towels please\n",
      "va -->  how many bath towels would you like?\n",
      "listening...\n",
      "Human -->  bath towels please\n",
      "va -->  how many bath towels would you like?\n",
      "listening...\n",
      "Human -->  9 bath towels please\n",
      "listening...\n",
      "Human --> Error\n",
      "\n",
      "listening...\n"
     ]
    },
    {
     "ename": "KeyboardInterrupt",
     "evalue": "",
     "output_type": "error",
     "traceback": [
      "\u001b[0;31m---------------------------------------------------------------------------\u001b[0m",
      "\u001b[0;31mKeyboardInterrupt\u001b[0m                         Traceback (most recent call last)",
      "\u001b[0;32m/var/folders/c7/lgdmvlr151n0dzlt14fyxlzw0000gn/T/ipykernel_4993/3604082032.py\u001b[0m in \u001b[0;36m<module>\u001b[0;34m\u001b[0m\n\u001b[1;32m     21\u001b[0m         \u001b[0;32mif\u001b[0m \u001b[0mre\u001b[0m\u001b[0;34m.\u001b[0m\u001b[0msearch\u001b[0m\u001b[0;34m(\u001b[0m\u001b[0mkey_towel\u001b[0m\u001b[0;34m,\u001b[0m \u001b[0mres\u001b[0m\u001b[0;34m)\u001b[0m\u001b[0;34m:\u001b[0m\u001b[0;34m\u001b[0m\u001b[0;34m\u001b[0m\u001b[0m\n\u001b[1;32m     22\u001b[0m             \u001b[0mprint\u001b[0m\u001b[0;34m(\u001b[0m\u001b[0;34m'towels 2'\u001b[0m\u001b[0;34m)\u001b[0m\u001b[0;34m\u001b[0m\u001b[0;34m\u001b[0m\u001b[0m\n\u001b[0;32m---> 23\u001b[0;31m             \u001b[0mtowel_req\u001b[0m \u001b[0;34m=\u001b[0m \u001b[0mneed_towels\u001b[0m\u001b[0;34m(\u001b[0m\u001b[0;34m)\u001b[0m\u001b[0;34m\u001b[0m\u001b[0;34m\u001b[0m\u001b[0m\n\u001b[0m\u001b[1;32m     24\u001b[0m             \u001b[0mprint\u001b[0m\u001b[0;34m(\u001b[0m\u001b[0mtowel_req\u001b[0m\u001b[0;34m)\u001b[0m\u001b[0;34m\u001b[0m\u001b[0;34m\u001b[0m\u001b[0m\n\u001b[1;32m     25\u001b[0m \u001b[0;34m\u001b[0m\u001b[0m\n",
      "\u001b[0;32m/var/folders/c7/lgdmvlr151n0dzlt14fyxlzw0000gn/T/ipykernel_4993/3371993463.py\u001b[0m in \u001b[0;36mneed_towels\u001b[0;34m()\u001b[0m\n\u001b[1;32m     20\u001b[0m \u001b[0;34m\u001b[0m\u001b[0m\n\u001b[1;32m     21\u001b[0m                 \u001b[0;31m# input -- type of towel\u001b[0m\u001b[0;34m\u001b[0m\u001b[0;34m\u001b[0m\u001b[0;34m\u001b[0m\u001b[0m\n\u001b[0;32m---> 22\u001b[0;31m                 \u001b[0mhuman_input\u001b[0m \u001b[0;34m=\u001b[0m \u001b[0mspeech_to_text\u001b[0m\u001b[0;34m(\u001b[0m\u001b[0;34m)\u001b[0m\u001b[0;34m\u001b[0m\u001b[0;34m\u001b[0m\u001b[0m\n\u001b[0m\u001b[1;32m     23\u001b[0m                 \u001b[0mprint\u001b[0m\u001b[0;34m(\u001b[0m\u001b[0mhuman_input\u001b[0m\u001b[0;34m)\u001b[0m\u001b[0;34m\u001b[0m\u001b[0;34m\u001b[0m\u001b[0m\n\u001b[1;32m     24\u001b[0m \u001b[0;34m\u001b[0m\u001b[0m\n",
      "\u001b[0;32m/var/folders/c7/lgdmvlr151n0dzlt14fyxlzw0000gn/T/ipykernel_4993/1733435270.py\u001b[0m in \u001b[0;36mspeech_to_text\u001b[0;34m()\u001b[0m\n\u001b[1;32m      6\u001b[0m     \u001b[0;32mwith\u001b[0m \u001b[0msr\u001b[0m\u001b[0;34m.\u001b[0m\u001b[0mMicrophone\u001b[0m\u001b[0;34m(\u001b[0m\u001b[0;34m)\u001b[0m \u001b[0;32mas\u001b[0m \u001b[0mmic\u001b[0m\u001b[0;34m:\u001b[0m\u001b[0;34m\u001b[0m\u001b[0;34m\u001b[0m\u001b[0m\n\u001b[1;32m      7\u001b[0m         \u001b[0mprint\u001b[0m\u001b[0;34m(\u001b[0m\u001b[0;34m\"listening...\"\u001b[0m\u001b[0;34m)\u001b[0m\u001b[0;34m\u001b[0m\u001b[0;34m\u001b[0m\u001b[0m\n\u001b[0;32m----> 8\u001b[0;31m         \u001b[0maudio\u001b[0m \u001b[0;34m=\u001b[0m \u001b[0mrecognizer\u001b[0m\u001b[0;34m.\u001b[0m\u001b[0mlisten\u001b[0m\u001b[0;34m(\u001b[0m\u001b[0mmic\u001b[0m\u001b[0;34m)\u001b[0m\u001b[0;34m\u001b[0m\u001b[0;34m\u001b[0m\u001b[0m\n\u001b[0m\u001b[1;32m      9\u001b[0m     \u001b[0;32mtry\u001b[0m\u001b[0;34m:\u001b[0m\u001b[0;34m\u001b[0m\u001b[0;34m\u001b[0m\u001b[0m\n\u001b[1;32m     10\u001b[0m         \u001b[0mtext\u001b[0m \u001b[0;34m=\u001b[0m \u001b[0mrecognizer\u001b[0m\u001b[0;34m.\u001b[0m\u001b[0mrecognize_google\u001b[0m\u001b[0;34m(\u001b[0m\u001b[0maudio\u001b[0m\u001b[0;34m)\u001b[0m\u001b[0;34m\u001b[0m\u001b[0;34m\u001b[0m\u001b[0m\n",
      "\u001b[0;32m~/opt/anaconda3/envs/chatbot/lib/python3.7/site-packages/speech_recognition/__init__.py\u001b[0m in \u001b[0;36mlisten\u001b[0;34m(self, source, timeout, phrase_time_limit, snowboy_configuration)\u001b[0m\n\u001b[1;32m    650\u001b[0m                     \u001b[0;32mbreak\u001b[0m\u001b[0;34m\u001b[0m\u001b[0;34m\u001b[0m\u001b[0m\n\u001b[1;32m    651\u001b[0m \u001b[0;34m\u001b[0m\u001b[0m\n\u001b[0;32m--> 652\u001b[0;31m                 \u001b[0mbuffer\u001b[0m \u001b[0;34m=\u001b[0m \u001b[0msource\u001b[0m\u001b[0;34m.\u001b[0m\u001b[0mstream\u001b[0m\u001b[0;34m.\u001b[0m\u001b[0mread\u001b[0m\u001b[0;34m(\u001b[0m\u001b[0msource\u001b[0m\u001b[0;34m.\u001b[0m\u001b[0mCHUNK\u001b[0m\u001b[0;34m)\u001b[0m\u001b[0;34m\u001b[0m\u001b[0;34m\u001b[0m\u001b[0m\n\u001b[0m\u001b[1;32m    653\u001b[0m                 \u001b[0;32mif\u001b[0m \u001b[0mlen\u001b[0m\u001b[0;34m(\u001b[0m\u001b[0mbuffer\u001b[0m\u001b[0;34m)\u001b[0m \u001b[0;34m==\u001b[0m \u001b[0;36m0\u001b[0m\u001b[0;34m:\u001b[0m \u001b[0;32mbreak\u001b[0m  \u001b[0;31m# reached end of the stream\u001b[0m\u001b[0;34m\u001b[0m\u001b[0;34m\u001b[0m\u001b[0m\n\u001b[1;32m    654\u001b[0m                 \u001b[0mframes\u001b[0m\u001b[0;34m.\u001b[0m\u001b[0mappend\u001b[0m\u001b[0;34m(\u001b[0m\u001b[0mbuffer\u001b[0m\u001b[0;34m)\u001b[0m\u001b[0;34m\u001b[0m\u001b[0;34m\u001b[0m\u001b[0m\n",
      "\u001b[0;32m~/opt/anaconda3/envs/chatbot/lib/python3.7/site-packages/speech_recognition/__init__.py\u001b[0m in \u001b[0;36mread\u001b[0;34m(self, size)\u001b[0m\n\u001b[1;32m    159\u001b[0m \u001b[0;34m\u001b[0m\u001b[0m\n\u001b[1;32m    160\u001b[0m         \u001b[0;32mdef\u001b[0m \u001b[0mread\u001b[0m\u001b[0;34m(\u001b[0m\u001b[0mself\u001b[0m\u001b[0;34m,\u001b[0m \u001b[0msize\u001b[0m\u001b[0;34m)\u001b[0m\u001b[0;34m:\u001b[0m\u001b[0;34m\u001b[0m\u001b[0;34m\u001b[0m\u001b[0m\n\u001b[0;32m--> 161\u001b[0;31m             \u001b[0;32mreturn\u001b[0m \u001b[0mself\u001b[0m\u001b[0;34m.\u001b[0m\u001b[0mpyaudio_stream\u001b[0m\u001b[0;34m.\u001b[0m\u001b[0mread\u001b[0m\u001b[0;34m(\u001b[0m\u001b[0msize\u001b[0m\u001b[0;34m,\u001b[0m \u001b[0mexception_on_overflow\u001b[0m\u001b[0;34m=\u001b[0m\u001b[0;32mFalse\u001b[0m\u001b[0;34m)\u001b[0m\u001b[0;34m\u001b[0m\u001b[0;34m\u001b[0m\u001b[0m\n\u001b[0m\u001b[1;32m    162\u001b[0m \u001b[0;34m\u001b[0m\u001b[0m\n\u001b[1;32m    163\u001b[0m         \u001b[0;32mdef\u001b[0m \u001b[0mclose\u001b[0m\u001b[0;34m(\u001b[0m\u001b[0mself\u001b[0m\u001b[0;34m)\u001b[0m\u001b[0;34m:\u001b[0m\u001b[0;34m\u001b[0m\u001b[0;34m\u001b[0m\u001b[0m\n",
      "\u001b[0;32m~/opt/anaconda3/envs/chatbot/lib/python3.7/site-packages/pyaudio.py\u001b[0m in \u001b[0;36mread\u001b[0;34m(self, num_frames, exception_on_overflow)\u001b[0m\n\u001b[1;32m    606\u001b[0m                           paCanNotReadFromAnOutputOnlyStream)\n\u001b[1;32m    607\u001b[0m \u001b[0;34m\u001b[0m\u001b[0m\n\u001b[0;32m--> 608\u001b[0;31m         \u001b[0;32mreturn\u001b[0m \u001b[0mpa\u001b[0m\u001b[0;34m.\u001b[0m\u001b[0mread_stream\u001b[0m\u001b[0;34m(\u001b[0m\u001b[0mself\u001b[0m\u001b[0;34m.\u001b[0m\u001b[0m_stream\u001b[0m\u001b[0;34m,\u001b[0m \u001b[0mnum_frames\u001b[0m\u001b[0;34m,\u001b[0m \u001b[0mexception_on_overflow\u001b[0m\u001b[0;34m)\u001b[0m\u001b[0;34m\u001b[0m\u001b[0;34m\u001b[0m\u001b[0m\n\u001b[0m\u001b[1;32m    609\u001b[0m \u001b[0;34m\u001b[0m\u001b[0m\n\u001b[1;32m    610\u001b[0m     \u001b[0;32mdef\u001b[0m \u001b[0mget_read_available\u001b[0m\u001b[0;34m(\u001b[0m\u001b[0mself\u001b[0m\u001b[0;34m)\u001b[0m\u001b[0;34m:\u001b[0m\u001b[0;34m\u001b[0m\u001b[0;34m\u001b[0m\u001b[0m\n",
      "\u001b[0;31mKeyboardInterrupt\u001b[0m: "
     ]
    }
   ],
   "source": [
    "if __name__ == \"__main__\":\n",
    "    \n",
    "    \n",
    "    # flags\n",
    "    flag = True\n",
    "    new_topic = True\n",
    "\n",
    "    \n",
    "    # main loop \n",
    "    while (flag == True):\n",
    "        # Welcome \n",
    "        if new_topic == True:\n",
    "            text_to_speech('Hello this is the Tokyo Grand Hyatt, how can i help you')  \n",
    "            new_topic = False\n",
    "\n",
    "        res = speech_to_text()\n",
    "        \n",
    "        # need some towels \n",
    "        # need_towels(towel_req)\n",
    "     \n",
    "        if re.search(key_towel, res):\n",
    "            print('towels 2')\n",
    "            towel_req = need_towels()\n",
    "            print(towel_req)\n",
    "            \n",
    "            \n"
   ]
  },
  {
   "cell_type": "code",
   "execution_count": 8,
   "metadata": {},
   "outputs": [
    {
     "name": "stdout",
     "output_type": "stream",
     "text": [
      "va -->  how many bath towels would you like?\n",
      "listening...\n",
      "Human -->  9 please\n"
     ]
    },
    {
     "data": {
      "text/plain": [
       "9"
      ]
     },
     "execution_count": 8,
     "metadata": {},
     "output_type": "execute_result"
    }
   ],
   "source": [
    "numberofTowels('bath')"
   ]
  },
  {
   "cell_type": "code",
   "execution_count": null,
   "metadata": {},
   "outputs": [],
   "source": []
  }
 ],
 "metadata": {
  "kernelspec": {
   "display_name": "Python 3",
   "language": "python",
   "name": "python3"
  },
  "language_info": {
   "codemirror_mode": {
    "name": "ipython",
    "version": 3
   },
   "file_extension": ".py",
   "mimetype": "text/x-python",
   "name": "python",
   "nbconvert_exporter": "python",
   "pygments_lexer": "ipython3",
   "version": "3.7.11"
  }
 },
 "nbformat": 4,
 "nbformat_minor": 4
}
