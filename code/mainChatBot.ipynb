{
 "cells": [
  {
   "cell_type": "markdown",
   "metadata": {},
   "source": [
    "# Chatbot Hospitality Industry\n",
    "<hr>"
   ]
  },
  {
   "cell_type": "code",
   "execution_count": null,
   "metadata": {},
   "outputs": [],
   "source": [
    "# Import\n",
    "\n",
    "import transformers\n",
    "#from nltk.corpus import wordnet\n",
    "\n",
    "import speech_recognition as sr\n",
    "from gtts import gTTS\n",
    "\n",
    "import os\n",
    "import re"
   ]
  },
  {
   "cell_type": "code",
   "execution_count": null,
   "metadata": {},
   "outputs": [],
   "source": [
    "# var\n",
    "\n",
    "towel_req = [[0,0],         #      , room number\n",
    "             [0,0],         #  flag, count bath towel \n",
    "             [0,0],         #  flag, count face towel\n",
    "             [0,0]]         #  flag, count washcloth\n",
    "\n",
    "key_towel = '.*\\\\bi need some towels\\\\b.*|.*\\\\bi need some towel\\\\b.*' #\"I need some towels\""
   ]
  },
  {
   "cell_type": "markdown",
   "metadata": {},
   "source": [
    "<hr>"
   ]
  },
  {
   "cell_type": "code",
   "execution_count": null,
   "metadata": {},
   "outputs": [],
   "source": [
    "# gTTS - Convert Text to speech\n",
    "\n",
    "def text_to_speech(text):\n",
    "    print(\"va --> \", text)\n",
    "    speaker = gTTS(text=text, lang=\"en\", slow=False)\n",
    "    speaker.save(\"res.mp3\")\n",
    "    os.system(\"afplay res.mp3\") \n",
    "    os.remove(\"res.mp3\")\n",
    "    "
   ]
  },
  {
   "cell_type": "code",
   "execution_count": null,
   "metadata": {},
   "outputs": [],
   "source": [
    "# Speech Recognition, using speech_recognition\n",
    "\n",
    "def speech_to_text():\n",
    "    text = \"\"\n",
    "    recognizer = sr.Recognizer()\n",
    "    with sr.Microphone() as mic:\n",
    "        print(\"listening...\")\n",
    "        audio = recognizer.listen(mic)\n",
    "    try:\n",
    "        text = recognizer.recognize_google(audio)\n",
    "        print(\"Human --> \",text)\n",
    "    except:\n",
    "        print(\"Human --> Error\")\n",
    "    return text.lower()"
   ]
  },
  {
   "cell_type": "markdown",
   "metadata": {},
   "source": [
    "<hr>"
   ]
  },
  {
   "cell_type": "code",
   "execution_count": null,
   "metadata": {},
   "outputs": [],
   "source": []
  }
 ],
 "metadata": {
  "kernelspec": {
   "display_name": "Python 3",
   "language": "python",
   "name": "python3"
  },
  "language_info": {
   "codemirror_mode": {
    "name": "ipython",
    "version": 3
   },
   "file_extension": ".py",
   "mimetype": "text/x-python",
   "name": "python",
   "nbconvert_exporter": "python",
   "pygments_lexer": "ipython3",
   "version": "3.7.11"
  }
 },
 "nbformat": 4,
 "nbformat_minor": 4
}
