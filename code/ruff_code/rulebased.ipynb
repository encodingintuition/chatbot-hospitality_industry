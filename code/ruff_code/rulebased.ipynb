{
 "cells": [
  {
   "cell_type": "code",
   "execution_count": null,
   "id": "c2ee7834-ba6d-40ad-a2a6-13c8d7b2ab0a",
   "metadata": {},
   "outputs": [],
   "source": [
    "ideas layed out"
   ]
  },
  {
   "cell_type": "code",
   "execution_count": null,
   "id": "66f0b6b7-9004-4cc5-8abf-7efb49063825",
   "metadata": {},
   "outputs": [],
   "source": [
    "#var\n",
    "\n",
    "towel_rq = [0, 0, 0, 0 ]"
   ]
  },
  {
   "cell_type": "code",
   "execution_count": null,
   "id": "37095de6-c448-486d-b676-cbc8bb0d149e",
   "metadata": {},
   "outputs": [],
   "source": [
    "day_of_the_week = 'wednesday'"
   ]
  },
  {
   "cell_type": "code",
   "execution_count": null,
   "id": "978f8e8b-9e1d-4d7b-9b98-c90062962b7d",
   "metadata": {},
   "outputs": [],
   "source": [
    "time_of_day = \" morning\""
   ]
  },
  {
   "cell_type": "code",
   "execution_count": null,
   "id": "cacac23a-0e54-4a99-a3b2-601cab9dd083",
   "metadata": {},
   "outputs": [],
   "source": []
  },
  {
   "cell_type": "code",
   "execution_count": null,
   "id": "502e4e4d-1921-48c8-8234-967b4e417ed9",
   "metadata": {},
   "outputs": [],
   "source": [
    "# into \n",
    "\n",
    "vaReply = \"hello, happy \" + day_of_the_week + time_of_day + ', how can i help you?'\n"
   ]
  },
  {
   "cell_type": "code",
   "execution_count": null,
   "id": "c43bcae5-455e-47dd-a833-ddf8f797b881",
   "metadata": {},
   "outputs": [],
   "source": []
  },
  {
   "cell_type": "code",
   "execution_count": null,
   "id": "620b7453-d10f-4c8d-9635-aaf23949cfff",
   "metadata": {},
   "outputs": [],
   "source": [
    "# starting phrase\n",
    "\n",
    "res = \"I need some towels\"\n",
    "\n",
    "#True - continue \n",
    "\n",
    "#false - goto conversation "
   ]
  },
  {
   "cell_type": "code",
   "execution_count": null,
   "id": "e074a803-0105-4b81-b2a1-ab3066c8cbc9",
   "metadata": {},
   "outputs": [],
   "source": []
  },
  {
   "cell_type": "code",
   "execution_count": null,
   "id": "6118ea3f-88c0-4e4f-b037-be022d3e9563",
   "metadata": {},
   "outputs": [],
   "source": [
    "# What type of towels \n",
    "\n",
    "vaReply = \"what type of towels would you like: bath towel, hand towel, or washcloths\"\n",
    "\n",
    "## input \n",
    "res = \"i would like bath towels\"\n",
    "\n",
    "# check for bath, hand or washcloths\n",
    "#set towel_type\n"
   ]
  },
  {
   "cell_type": "code",
   "execution_count": null,
   "id": "8774898b-b1d5-496b-8268-30a531ddd4ee",
   "metadata": {},
   "outputs": [],
   "source": []
  },
  {
   "cell_type": "code",
   "execution_count": null,
   "id": "18605ade-4c37-487e-94c8-a6157f69f111",
   "metadata": {},
   "outputs": [],
   "source": [
    "def numberofTowels(type_of_towel):\n",
    "    number_of_towels = 0 \n",
    "    \n",
    "    vaReply = \"how many \",towel_type, \" towels would you like?\"\n",
    "    \n",
    "    # input \n",
    "    \n",
    "    if re.search('.*\\\\one\\\\b.*', input)\n",
    "        number_of_towels = 1\n",
    "        \n",
    "    elif re.search('.*\\\\one\\\\b.*', input)\n",
    "        number_of_towels = 1\n",
    "        \n",
    "    \n",
    "    else \n",
    "        vaReply = 'I am sorry i did not get that, we can only offer you twenty towels maximum'\n",
    "        \n",
    "        \n",
    "    \n",
    "    "
   ]
  },
  {
   "cell_type": "code",
   "execution_count": null,
   "id": "bc7d1b95-57c2-4d1c-877d-8dba89ce1aca",
   "metadata": {},
   "outputs": [],
   "source": []
  },
  {
   "cell_type": "code",
   "execution_count": null,
   "id": "b9e20d4c-89d1-42d7-8d13-6afcd17d3284",
   "metadata": {},
   "outputs": [],
   "source": [
    "#How many towels \n",
    "\n",
    "vaReply = \"how many \",towel_type, \" towels would you like?\"\n",
    "\n",
    "## INPUT \n",
    "res = I would like 10 towels\n",
    "\n",
    "#set towel_quantity \n",
    "\n",
    "# check if quantity is > 20 \n",
    "# if towel_quantity > 20 then \n",
    "    vaReply = \"I am sorry, there is a 20 towel limit.  I will send you 20.\"\n",
    "    \n"
   ]
  },
  {
   "cell_type": "code",
   "execution_count": null,
   "id": "8f0e395d-2aeb-467b-a23b-7266a5c8bdd1",
   "metadata": {},
   "outputs": [],
   "source": []
  },
  {
   "cell_type": "code",
   "execution_count": null,
   "id": "319345d9-619a-4b69-a5f0-6399611c2de7",
   "metadata": {},
   "outputs": [],
   "source": [
    "# Store towel type and number \n",
    "# 2D array \n",
    "\n",
    "# towel_ty =  {'bath':1, 'face':2, 'washcloth':3 }\n",
    "towel_req[towel_ty] = towel_quantity\n",
    "\n"
   ]
  },
  {
   "cell_type": "code",
   "execution_count": null,
   "id": "f836f58f-0cbc-4b4c-9e79-da7da1762f0d",
   "metadata": {},
   "outputs": [],
   "source": []
  },
  {
   "cell_type": "code",
   "execution_count": null,
   "id": "1ece6f9b-9e61-486e-9522-b5c62e1a5778",
   "metadata": {},
   "outputs": [],
   "source": [
    "    # check to see if any other towels are needed\n",
    "\n",
    "vaReply = \"Would you like another type of towel?\"\n",
    "\n",
    "# yes start from top \n",
    "\n",
    "# no check room"
   ]
  },
  {
   "cell_type": "code",
   "execution_count": null,
   "id": "e11e722e-d356-4462-a83c-bfe121f16c9e",
   "metadata": {},
   "outputs": [],
   "source": []
  },
  {
   "cell_type": "code",
   "execution_count": null,
   "id": "23838d48-91f0-4f1c-ad3c-3dc0c63c2881",
   "metadata": {},
   "outputs": [],
   "source": [
    "# enter Room number \n",
    "\n",
    "vaReply = \"What is you room number\"\n",
    "\n",
    "res = \"send them up to room 432\"\n",
    "\n",
    "# record room number \n",
    "#room_number \n",
    "\n",
    "towel_req[0] = room_number"
   ]
  }
 ],
 "metadata": {
  "kernelspec": {
   "display_name": "Python 3",
   "language": "python",
   "name": "python3"
  },
  "language_info": {
   "codemirror_mode": {
    "name": "ipython",
    "version": 3
   },
   "file_extension": ".py",
   "mimetype": "text/x-python",
   "name": "python",
   "nbconvert_exporter": "python",
   "pygments_lexer": "ipython3",
   "version": "3.7.11"
  }
 },
 "nbformat": 4,
 "nbformat_minor": 5
}
