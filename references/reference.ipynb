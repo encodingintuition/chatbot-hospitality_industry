{
 "cells": [
  {
   "cell_type": "code",
   "execution_count": null,
   "id": "dad6def0-cf87-40d9-9e0b-4c0414934785",
   "metadata": {},
   "outputs": [],
   "source": []
  },
  {
   "cell_type": "code",
   "execution_count": null,
   "id": "d26d142b-d088-4e86-8c86-2f13e11b2655",
   "metadata": {},
   "outputs": [],
   "source": []
  },
  {
   "cell_type": "markdown",
   "id": "53b342dd-b910-4c24-ac05-90bfb0919892",
   "metadata": {},
   "source": [
    "# Packedges installed\n",
    "<hr>\n",
    "\n",
    "conda install numpy \n",
    "conda install -c conda-forge jupyterlab\n",
    "\n",
    "pip install SpeechRecognition  #(3.8.1)  \n",
    "https://pypi.org/project/SpeechRecognition/\n",
    "\n",
    "pip install gTTS  #(2.2.3)  \n",
    "https://pypi.org/project/gTTS/  \n",
    "pip install transformers  #(4.11.3)  \n",
    "\n",
    "\n",
    "#### For Audio output in python\n",
    "brew install portaudio \n",
    "pip install PyAudio\n",
    "\n",
    "#### Natural Language Toolkit\n",
    "pip install --user -U nltk\n",
    "https://www.nltk.org/\n",
    "\n",
    "#### Deeppavlov\n",
    "pip install -q deeppavlov "
   ]
  },
  {
   "cell_type": "markdown",
   "id": "c222dc1e-0742-4b69-8b11-54dd91efa4a5",
   "metadata": {},
   "source": [
    "\n",
    "- Speech to text\n",
    "    - Speech Recognition API\n",
    "\n"
   ]
  },
  {
   "cell_type": "code",
   "execution_count": null,
   "id": "19842e5e-0428-4700-b684-540d5ef3123b",
   "metadata": {},
   "outputs": [],
   "source": []
  },
  {
   "cell_type": "code",
   "execution_count": null,
   "id": "a0690f61-5c96-4542-ae33-48afec00c82c",
   "metadata": {},
   "outputs": [],
   "source": []
  },
  {
   "cell_type": "code",
   "execution_count": null,
   "id": "d76d456c-b2cc-4aac-8eb4-38bc668bfd96",
   "metadata": {},
   "outputs": [],
   "source": [
    "Text to speech\n",
    "https://pypi.org/project/gTTS/#description"
   ]
  },
  {
   "cell_type": "code",
   "execution_count": null,
   "id": "466a23f1-053d-47c9-98c0-9912f1d142f4",
   "metadata": {},
   "outputs": [],
   "source": [
    "https://medium.com/@wagnernoise/installing-pyaudio-on-macos-9a5557176c4d"
   ]
  }
 ],
 "metadata": {
  "kernelspec": {
   "display_name": "Python 3",
   "language": "python",
   "name": "python3"
  },
  "language_info": {
   "codemirror_mode": {
    "name": "ipython",
    "version": 3
   },
   "file_extension": ".py",
   "mimetype": "text/x-python",
   "name": "python",
   "nbconvert_exporter": "python",
   "pygments_lexer": "ipython3",
   "version": "3.7.11"
  }
 },
 "nbformat": 4,
 "nbformat_minor": 5
}
