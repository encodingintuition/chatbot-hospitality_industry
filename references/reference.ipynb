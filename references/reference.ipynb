{
 "cells": [
  {
   "cell_type": "code",
   "execution_count": null,
   "id": "dad6def0-cf87-40d9-9e0b-4c0414934785",
   "metadata": {},
   "outputs": [],
   "source": []
  },
  {
   "cell_type": "code",
   "execution_count": null,
   "id": "d26d142b-d088-4e86-8c86-2f13e11b2655",
   "metadata": {},
   "outputs": [],
   "source": []
  },
  {
   "cell_type": "markdown",
   "id": "53b342dd-b910-4c24-ac05-90bfb0919892",
   "metadata": {},
   "source": [
    "# Packedges installed\n",
    "<hr>\n",
    "\n",
    "conda install numpy   \n",
    "conda install -c conda-forge jupyterlab\n",
    "\n",
    "pip install SpeechRecognition  #(3.8.1)  \n",
    "https://pypi.org/project/SpeechRecognition/\n",
    "\n",
    "pip install gTTS  #(2.2.3)  \n",
    "https://pypi.org/project/gTTS/  \n",
    "pip install transformers  #(4.11.3)  \n",
    "\n",
    "\n",
    "#### For Audio output in python\n",
    "brew install portaudio \n",
    "pip install PyAudio\n",
    "\n",
    "#### Natural Language Toolkit\n",
    "pip install --user -U nltk\n",
    "https://www.nltk.org/\n",
    "\n",
    "#### Deeppavlov\n",
    "pip install -q deeppavlov \n",
    "https://blog.tensorflow.org/2019/09/deeppavlov-open-source-library-for-end.html?m=1"
   ]
  },
  {
   "cell_type": "markdown",
   "id": "c222dc1e-0742-4b69-8b11-54dd91efa4a5",
   "metadata": {},
   "source": [
    "\n",
    "- Speech to text\n",
    "    - Speech Recognition API\n",
    "\n"
   ]
  },
  {
   "cell_type": "code",
   "execution_count": null,
   "id": "19842e5e-0428-4700-b684-540d5ef3123b",
   "metadata": {},
   "outputs": [],
   "source": []
  },
  {
   "cell_type": "code",
   "execution_count": null,
   "id": "2ec80006-b71f-417d-81dc-b4b0c695aca3",
   "metadata": {},
   "outputs": [],
   "source": []
  },
  {
   "cell_type": "code",
   "execution_count": null,
   "id": "f94fce6b-a2ed-428f-8f51-131f3d909930",
   "metadata": {},
   "outputs": [],
   "source": []
  },
  {
   "cell_type": "code",
   "execution_count": null,
   "id": "f89b99ef-7c7d-456c-acd1-d9ddef4bc6a8",
   "metadata": {},
   "outputs": [],
   "source": []
  },
  {
   "cell_type": "markdown",
   "id": "f88fa07b-090b-46d1-86cb-459ee32435a3",
   "metadata": {},
   "source": [
    "#### Articles\n",
    "- Running Python on AWS for machine learning using audio and speech recognition, while you are gone! | (for absolute beginners)  \n",
    "https://medium.com/@ro.flores.mendez/running-python-on-aws-for-machine-learning-using-audio-and-speech-recognition-while-you-are-gone-28909f1b462\n",
    "\n",
    "- How to Deploy a Streamlit App using an Amazon Free ec2 instance?   \n",
    "https://towardsdatascience.com/how-to-deploy-a-streamlit-app-using-an-amazon-free-ec2-instance-416a41f69dc3\n",
    "\n",
    "- Installing PyAudio on MacOs  \n",
    "https://medium.com/@wagnernoise/installing-pyaudio-on-macos-9a5557176c4d\n",
    "\n",
    "- AI Chatbot with NLP: Speech Recognition + Transformers  \n",
    "https://towardsdatascience.com/ai-chatbot-with-nlp-speech-recognition-transformers-583716a299e9"
   ]
  },
  {
   "cell_type": "code",
   "execution_count": null,
   "id": "d76d456c-b2cc-4aac-8eb4-38bc668bfd96",
   "metadata": {},
   "outputs": [],
   "source": [
    "Text to speech\n",
    "https://pypi.org/project/gTTS/#description\n",
    "\n",
    "https://librosa.org/"
   ]
  },
  {
   "cell_type": "code",
   "execution_count": null,
   "id": "466a23f1-053d-47c9-98c0-9912f1d142f4",
   "metadata": {},
   "outputs": [],
   "source": [
    "https://medium.com/@wagnernoise/installing-pyaudio-on-macos-9a5557176c4d"
   ]
  }
 ],
 "metadata": {
  "kernelspec": {
   "display_name": "Python 3",
   "language": "python",
   "name": "python3"
  },
  "language_info": {
   "codemirror_mode": {
    "name": "ipython",
    "version": 3
   },
   "file_extension": ".py",
   "mimetype": "text/x-python",
   "name": "python",
   "nbconvert_exporter": "python",
   "pygments_lexer": "ipython3",
   "version": "3.7.11"
  }
 },
 "nbformat": 4,
 "nbformat_minor": 5
}
